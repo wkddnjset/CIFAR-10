{
 "cells": [
  {
   "cell_type": "markdown",
   "metadata": {},
   "source": [
    "### Import CIFAR-10 Data"
   ]
  },
  {
   "cell_type": "code",
   "execution_count": 10,
   "metadata": {
    "collapsed": true
   },
   "outputs": [],
   "source": [
    "import numpy as np\n",
    "import pickle\n",
    "import sys"
   ]
  },
  {
   "cell_type": "markdown",
   "metadata": {},
   "source": [
    "- load **images data** and **labels** from files"
   ]
  },
  {
   "cell_type": "code",
   "execution_count": 15,
   "metadata": {
    "collapsed": true
   },
   "outputs": [],
   "source": [
    "def load_CIFAR10_batch(filename):\n",
    "    with open(filename, 'rb') as f:\n",
    "        dict = pickle.load(f, encoding='bytes')\n",
    "    x = dict[b'data']\n",
    "    y = dict[b'labels']\n",
    "    return x, y"
   ]
  },
  {
   "cell_type": "markdown",
   "metadata": {},
   "source": [
    "### Merge Traing Data\n",
    "\n",
    "- using *load_CIFAR10_batch* load files\n",
    "- np.append & np.concatenate "
   ]
  },
  {
   "cell_type": "code",
   "execution_count": 14,
   "metadata": {},
   "outputs": [],
   "source": [
    "def load_data():\n",
    "    xs = []\n",
    "    ys = []\n",
    "    for i in range(1, 6):\n",
    "        filename = './cifar-10-batches-py/data_batch_' + str(i)\n",
    "        X, Y = load_CIFAR10_batch(filename)\n",
    "        xs.append(X)\n",
    "        ys.append(Y)\n",
    "\n",
    "    x_train = xs\n",
    "    y_train = ys\n",
    "\n",
    "    x_test, y_test = load_CIFAR10_batch('./cifar-10-batches-py/test_batch')\n",
    "\n",
    "    classes = ['plane', 'car', 'bird', 'cat', 'deer', 'dog', 'frog', 'horse',\n",
    "    'ship', 'truck']\n",
    "\n",
    "    # Normalize Data\n",
    "#     mean_image = np.mean(x_train, axis=0)\n",
    "#     x_train -= mean_image\n",
    "#     x_test -= mean_image\n",
    "\n",
    "    data_dict = {\n",
    "        'images_train': x_train,\n",
    "        'labels_train': y_train,\n",
    "        'images_test': x_test,\n",
    "        'labels_test': y_test,\n",
    "        'classes': classes\n",
    "    }\n",
    "    return data_dict"
   ]
  },
  {
   "cell_type": "markdown",
   "metadata": {},
   "source": [
    "### Reshape Data\n",
    " *data_dict = load_data()*\n",
    "- reshape [-1, 3072] to [-1, 3, 32, 32]\n",
    "- transpoes [-1, 32, 32, 3]\n"
   ]
  },
  {
   "cell_type": "code",
   "execution_count": 3,
   "metadata": {
    "collapsed": true
   },
   "outputs": [],
   "source": [
    "def reshape_data(data_dict):\n",
    "    im_tr = np.array(data_dict['images_train'])\n",
    "    im_tr = np.reshape(im_tr, (-1, 3, 32, 32))\n",
    "    im_tr = np.transpose(im_tr, (0,2,3,1))\n",
    "    data_dict['images_train'] = im_tr\n",
    "    im_te = np.array(data_dict['images_test'])\n",
    "    im_te = np.reshape(im_te, (-1, 3, 32, 32))\n",
    "    im_te = np.transpose(im_te, (0,2,3,1))\n",
    "    data_dict['images_test'] = im_te\n",
    "    return data_dict"
   ]
  },
  {
   "cell_type": "markdown",
   "metadata": {},
   "source": [
    "### Generate Batch\n",
    " data = reshape_data(load_data())\n",
    "- yield is a keyword that is used like return, except the function will return a generator.\n",
    "    > **Python Code** \n",
    "```\n",
    "    >>> def createGenerator():\n",
    "    ...    mylist = range(3)\n",
    "    ...    for i in mylist:\n",
    "    ...        yield i*i\n",
    "    ...\n",
    "    >>> mygenerator = createGenerator() # create a generator\n",
    "    >>> print(mygenerator) # mygenerator is an object!\n",
    " <generator object createGenerator at 0xb7555c34>\n",
    "    >>> for i in mygenerator:\n",
    "    ...     print(i)\n",
    "    0\n",
    "    1\n",
    "    4\n",
    "```"
   ]
  },
  {
   "cell_type": "code",
   "execution_count": 4,
   "metadata": {
    "collapsed": true
   },
   "outputs": [],
   "source": [
    "def gen_batch(data, batch_size, num_iter):\n",
    "    data = np.array(data)\n",
    "    index = len(data)\n",
    "    for i in range(num_iter):\n",
    "        index += batch_size\n",
    "        if (index + batch_size > len(data)):\n",
    "            index = 0\n",
    "            shuffled_indices = np.random.permutation(np.arange(len(data)))\n",
    "            data = data[shuffled_indices]\n",
    "        yield data[index:index + batch_size]"
   ]
  },
  {
   "cell_type": "code",
   "execution_count": null,
   "metadata": {
    "collapsed": true
   },
   "outputs": [],
   "source": []
  },
  {
   "cell_type": "code",
   "execution_count": 35,
   "metadata": {
    "collapsed": true
   },
   "outputs": [],
   "source": [
    "def main():\n",
    "    data_sets = load_data()\n",
    "    print(data_sets['images_train'].shape)\n",
    "    print(data_sets['labels_train'].shape)\n",
    "    print(data_sets['images_test'].shape)\n",
    "    print(data_sets['labels_test'].shape)"
   ]
  },
  {
   "cell_type": "code",
   "execution_count": 41,
   "metadata": {},
   "outputs": [
    {
     "name": "stdout",
     "output_type": "stream",
     "text": [
      "(50000, 3072)\n",
      "(50000,)\n",
      "(10000, 3072)\n",
      "(10000,)\n"
     ]
    }
   ],
   "source": [
    "if __name__ == '__main__':\n",
    "    main()"
   ]
  },
  {
   "cell_type": "code",
   "execution_count": null,
   "metadata": {
    "collapsed": true
   },
   "outputs": [],
   "source": []
  },
  {
   "cell_type": "code",
   "execution_count": null,
   "metadata": {
    "collapsed": true
   },
   "outputs": [],
   "source": []
  }
 ],
 "metadata": {
  "kernelspec": {
   "display_name": "Python 3",
   "language": "python",
   "name": "python3"
  },
  "language_info": {
   "codemirror_mode": {
    "name": "ipython",
    "version": 3
   },
   "file_extension": ".py",
   "mimetype": "text/x-python",
   "name": "python",
   "nbconvert_exporter": "python",
   "pygments_lexer": "ipython3",
   "version": "3.5.4"
  }
 },
 "nbformat": 4,
 "nbformat_minor": 2
}
