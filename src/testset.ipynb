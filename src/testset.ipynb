{
 "cells": [
  {
   "cell_type": "markdown",
   "metadata": {},
   "source": [
    "### Import CIFAR-10 Data"
   ]
  },
  {
   "cell_type": "code",
   "execution_count": 1,
   "metadata": {
    "collapsed": true
   },
   "outputs": [],
   "source": [
    "import numpy as np\n",
    "import pickle\n",
    "import sys\n",
    "import matplotlib.pyplot as plt\n",
    "import tensorflow as tf\n",
    "import time"
   ]
  },
  {
   "cell_type": "markdown",
   "metadata": {},
   "source": [
    "- load **images data** and **labels** from files"
   ]
  },
  {
   "cell_type": "code",
   "execution_count": 2,
   "metadata": {
    "collapsed": true
   },
   "outputs": [],
   "source": [
    "def load_CIFAR10_batch(filename):\n",
    "    with open(filename, 'rb') as f:\n",
    "        dict = pickle.load(f, encoding='bytes')\n",
    "\n",
    "        x = dict[b'data']\n",
    "        y = dict[b'labels']\n",
    "        y = np.array(y)\n",
    "    return x, y"
   ]
  },
  {
   "cell_type": "markdown",
   "metadata": {},
   "source": [
    "### Merge Traing Data\n",
    "\n",
    "- using *load_CIFAR10_batch* load files\n",
    "- np.append & np.concatenate "
   ]
  },
  {
   "cell_type": "code",
   "execution_count": 3,
   "metadata": {
    "collapsed": true
   },
   "outputs": [],
   "source": [
    "def load_data():\n",
    "    xs = []\n",
    "    ys = []\n",
    "    for i in range(1, 6):\n",
    "        filename = './cifar-10-batches-py/data_batch_' + str(i)\n",
    "        X, Y = load_CIFAR10_batch(filename)\n",
    "        xs.append(X)\n",
    "        ys.append(Y)\n",
    "\n",
    "    x_train = np.concatenate(xs)\n",
    "    y_train = np.concatenate(ys)\n",
    "    del xs, ys\n",
    "    x_test, y_test = load_CIFAR10_batch('./cifar-10-batches-py/test_batch')\n",
    "\n",
    "    classes = ['plane', 'car', 'bird', 'cat', 'deer', 'dog', 'frog', 'horse',\n",
    "    'ship', 'truck']\n",
    "\n",
    "    # Normalize Data\n",
    "#     mean_image = np.mean(x_train, axis=0)\n",
    "#     x_train -= mean_image\n",
    "#     x_test -= mean_image\n",
    "\n",
    "    data_dict = {\n",
    "        'images_train': x_train,\n",
    "        'labels_train': y_train,\n",
    "        'images_test': x_test,\n",
    "        'labels_test': y_test,\n",
    "        'classes': classes\n",
    "    }\n",
    "    return data_dict"
   ]
  },
  {
   "cell_type": "markdown",
   "metadata": {},
   "source": [
    "### Reshape Data\n",
    " *data_dict = load_data()*\n",
    "- reshape [-1, 3072] to [-1, 3, 32, 32]\n",
    "- transpoes [-1, 32, 32, 3]\n"
   ]
  },
  {
   "cell_type": "code",
   "execution_count": 4,
   "metadata": {
    "collapsed": true
   },
   "outputs": [],
   "source": [
    "def reshape_data(data_dict):\n",
    "    im_tr = np.array(data_dict['images_train'])\n",
    "    im_tr = np.reshape(im_tr, (-1, 3, 32, 32))\n",
    "    im_tr = np.transpose(im_tr, (0,2,3,1))\n",
    "    data_dict['images_train'] = im_tr\n",
    "    im_te = np.array(data_dict['images_test'])\n",
    "    im_te = np.reshape(im_te, (-1, 3, 32, 32))\n",
    "    im_te = np.transpose(im_te, (0,2,3,1))\n",
    "    data_dict['images_test'] = im_te\n",
    "    return data_dict"
   ]
  },
  {
   "cell_type": "markdown",
   "metadata": {},
   "source": [
    "### Generate Batch\n",
    " data = reshape_data(load_data())\n",
    "- yield is a keyword that is used like return, except the function will return a generator.\n",
    "    > **Python Code** \n",
    "```\n",
    "    >>> def createGenerator():\n",
    "    ...    mylist = range(3)\n",
    "    ...    for i in mylist:\n",
    "    ...        yield i*i\n",
    "    ...\n",
    "    >>> mygenerator = createGenerator() # create a generator\n",
    "    >>> print(mygenerator) # mygenerator is an object!\n",
    " <generator object createGenerator at 0xb7555c34>\n",
    "    >>> for i in mygenerator:\n",
    "    ...     print(i)\n",
    "    0\n",
    "    1\n",
    "    4\n",
    "```"
   ]
  },
  {
   "cell_type": "code",
   "execution_count": 5,
   "metadata": {
    "collapsed": true
   },
   "outputs": [],
   "source": [
    "def gen_batch(data, batch_size, num_iter):\n",
    "    data = np.array(data)\n",
    "    index = len(data)\n",
    "    for i in range(num_iter):\n",
    "        index += batch_size\n",
    "        if (index + batch_size > len(data)):\n",
    "            index = 0\n",
    "            shuffled_indices = np.random.permutation(np.arange(len(data)))\n",
    "            data = data[shuffled_indices]\n",
    "        yield data[index:index + batch_size]"
   ]
  },
  {
   "cell_type": "code",
   "execution_count": 6,
   "metadata": {
    "collapsed": true
   },
   "outputs": [],
   "source": [
    "def main():\n",
    "    data_sets = load_data()\n",
    "    print(data_sets['images_train'].shape)\n",
    "    print(data_sets['labels_train'].shape)\n",
    "    print(data_sets['images_test'].shape)\n",
    "    print(data_sets['labels_test'].shape)"
   ]
  },
  {
   "cell_type": "code",
   "execution_count": 7,
   "metadata": {
    "collapsed": true
   },
   "outputs": [],
   "source": [
    "data_reshape = reshape_data(load_data())\n",
    "\n",
    "train_X = data_reshape['images_train']\n",
    "train_Y = data_reshape['labels_train']\n",
    "test_X = data_reshape['images_test']\n",
    "test_Y = data_reshape['labels_test']\n",
    "classes = load_data()['classes']"
   ]
  },
  {
   "cell_type": "code",
   "execution_count": 8,
   "metadata": {
    "collapsed": true
   },
   "outputs": [],
   "source": [
    "X = tf.placeholder(shape=[None, 32, 32, 3], dtype=tf.float32, name='X')\n",
    "Y = tf.placeholder(shape=[None], dtype=tf.uint8, name='Y')\n",
    "W = tf.Variable(tf.zeros([3072, 10]), name='W')\n",
    "B = tf.Variable(tf.zeros([10]), name='B')"
   ]
  },
  {
   "cell_type": "code",
   "execution_count": 9,
   "metadata": {
    "collapsed": true
   },
   "outputs": [],
   "source": [
    "def layer(input, weight_shape, name):\n",
    "    with tf.name_scope(name):\n",
    "        W = tf.Variable(tf.truncated_normal(shape=weight_shape, mean=0.0, stddev=0.02, name='layer_W'))\n",
    "        L = tf.nn.conv2d(input, W, strides=[1,1,1,1], padding='SAME', name='conv')\n",
    "        relu = tf.nn.relu(L, name='relu')\n",
    "        return W, relu"
   ]
  },
  {
   "cell_type": "code",
   "execution_count": 10,
   "metadata": {
    "collapsed": true
   },
   "outputs": [],
   "source": [
    "def fully_connect(input, weight_shape, bias_shape, name):\n",
    "    with tf.name_scope(name):\n",
    "        W = tf.get_variable('lay_W', shape=weight_shape, initializer=tf.contrib.layers.xavier_initializer())\n",
    "        B = tf.Variable(tf.zeros(bias_shape), name='ful_B')\n",
    "        H = tf.matmul(input, W, name='ful_H') + B\n",
    "        softmax = tf.nn.softmax(H, name='softmaxw')\n",
    "        return H, softmax"
   ]
  },
  {
   "cell_type": "code",
   "execution_count": 11,
   "metadata": {
    "collapsed": true
   },
   "outputs": [],
   "source": [
    "## Layer 1 => 0-W, 1-B, 2-W, 3-output\n",
    "layer_1 = layer(X, [2, 2, 3, 32], 'first')[1]\n",
    "layer_2 = layer(layer_1, [2, 2, 32, 64], 'second')[1]\n",
    "pool_1 = tf.nn.max_pool(layer_2, ksize=[1, 2, 2, 1], strides=[1, 2, 2, 1], padding='SAME', name='pooling')\n",
    "\n",
    "layer_3 = layer(pool_1, [2, 2, 64, 128], 'third')[1]\n",
    "layer_4 = layer(layer_3, [2, 2, 128, 128], 'forth')[1]\n",
    "pool_2 = tf.nn.max_pool(layer_4, ksize=[1, 2, 2, 1], strides=[1, 2, 2, 1], padding='SAME', name='pooling')\n",
    "\n",
    "# reshape Last output to vector\n",
    "vec_layer = tf.reshape(pool_2, [-1, 8*8*128])"
   ]
  },
  {
   "cell_type": "code",
   "execution_count": 12,
   "metadata": {
    "collapsed": true
   },
   "outputs": [],
   "source": [
    "## fully connect => 0-output, 1-sofrmax\n",
    "ful_output, softmax = fully_connect(vec_layer, [8*8*128, 10], [10], 'last')"
   ]
  },
  {
   "cell_type": "code",
   "execution_count": 13,
   "metadata": {
    "collapsed": true
   },
   "outputs": [],
   "source": [
    "## one_hot label\n",
    "Y_one = tf.one_hot(Y, 10, axis=1)\n",
    "## predict "
   ]
  },
  {
   "cell_type": "code",
   "execution_count": 14,
   "metadata": {
    "collapsed": true
   },
   "outputs": [],
   "source": [
    "## minimize\n",
    "entropy = tf.nn.softmax_cross_entropy_with_logits(labels=Y_one, logits=ful_output, name='loss')\n",
    "loss = tf.reduce_mean(entropy)\n",
    "optimizer = tf.train.AdamOptimizer(learning_rate=0.001)\n",
    "train_op = optimizer.minimize(loss)"
   ]
  },
  {
   "cell_type": "code",
   "execution_count": 15,
   "metadata": {
    "collapsed": true
   },
   "outputs": [],
   "source": [
    "# Accuracy\n",
    "Accuracy = tf.reduce_mean(tf.cast(tf.equal(tf.argmax(softmax, 1), tf.argmax(Y_one, 1)), dtype=tf.float32))"
   ]
  },
  {
   "cell_type": "code",
   "execution_count": 20,
   "metadata": {
    "scrolled": false
   },
   "outputs": [
    {
     "name": "stdout",
     "output_type": "stream",
     "text": [
      "epoch : 0\n",
      "loss ==>  33.5001102686\n",
      "epoch : 1\n",
      "loss ==>  28.9709374905\n",
      "epoch : 2\n",
      "loss ==>  25.5707489252\n",
      "epoch : 3\n",
      "loss ==>  23.9284497499\n",
      "epoch : 4\n",
      "loss ==>  22.5502748489\n",
      "epoch : 5\n",
      "loss ==>  21.5335057974\n",
      "epoch : 6\n",
      "loss ==>  20.7347689867\n",
      "epoch : 7\n",
      "loss ==>  19.1100748777\n",
      "epoch : 8\n",
      "loss ==>  17.9092431068\n",
      "epoch : 9\n",
      "loss ==>  16.9098742008\n",
      "epoch : 10\n",
      "loss ==>  16.314652741\n",
      "epoch : 11\n",
      "loss ==>  15.3973989487\n",
      "epoch : 12\n",
      "loss ==>  14.935230732\n",
      "epoch : 13\n",
      "loss ==>  14.4103632569\n",
      "epoch : 14\n",
      "loss ==>  13.8300413489\n",
      "epoch : 15\n",
      "loss ==>  13.3736076951\n",
      "epoch : 16\n",
      "loss ==>  12.8069419265\n",
      "epoch : 17\n",
      "loss ==>  12.5877433419\n",
      "epoch : 18\n",
      "loss ==>  12.3692137599\n",
      "epoch : 19\n",
      "loss ==>  12.0192501545\n",
      "epoch : 20\n",
      "loss ==>  11.4973922968\n",
      "epoch : 21\n",
      "loss ==>  11.0445728898\n",
      "epoch : 22\n",
      "loss ==>  10.6257932782\n",
      "epoch : 23\n",
      "loss ==>  10.2207852006\n",
      "epoch : 24\n",
      "loss ==>  9.97921735048\n",
      "epoch : 25\n",
      "loss ==>  9.84368246794\n",
      "epoch : 26\n",
      "loss ==>  9.88002389669\n",
      "epoch : 27\n",
      "loss ==>  9.86976611614\n",
      "epoch : 28\n",
      "loss ==>  9.56357741356\n",
      "epoch : 29\n",
      "loss ==>  8.72008568048\n",
      "Accuracy :  0.7074\n"
     ]
    },
    {
     "data": {
      "image/png": "[encoded data removed]",
      "text/plain": [
       "<matplotlib.figure.Figure at 0x7f3a287075f8>"
      ]
     },
     "metadata": {},
     "output_type": "display_data"
    },
    {
     "name": "stdout",
     "output_type": "stream",
     "text": [
      "car === car\n"
     ]
    },
    {
     "data": {
      "image/png": "[encoded data removed]",
      "text/plain": [
       "<matplotlib.figure.Figure at 0x7f3a037d4d30>"
      ]
     },
     "metadata": {},
     "output_type": "display_data"
    },
    {
     "name": "stdout",
     "output_type": "stream",
     "text": [
      "horse === horse\n"
     ]
    },
    {
     "data": {
      "image/png": "[encoded data removed]",
      "text/plain": [
       "<matplotlib.figure.Figure at 0x7f3a03753940>"
      ]
     },
     "metadata": {},
     "output_type": "display_data"
    },
    {
     "name": "stdout",
     "output_type": "stream",
     "text": [
      "deer === deer\n"
     ]
    },
    {
     "data": {
      "image/png": "[encoded data removed]",
      "text/plain": [
       "<matplotlib.figure.Figure at 0x7f3a036cbc50>"
      ]
     },
     "metadata": {},
     "output_type": "display_data"
    },
    {
     "name": "stdout",
     "output_type": "stream",
     "text": [
      "frog === frog\n"
     ]
    },
    {
     "data": {
      "image/png": "[encoded data removed]",
      "text/plain": [
       "<matplotlib.figure.Figure at 0x7f3a036ae3c8>"
      ]
     },
     "metadata": {},
     "output_type": "display_data"
    },
    {
     "name": "stdout",
     "output_type": "stream",
     "text": [
      "dog === dog\n"
     ]
    },
    {
     "data": {
      "image/png": "[encoded data removed]",
      "text/plain": [
       "<matplotlib.figure.Figure at 0x7f3a0375e630>"
      ]
     },
     "metadata": {},
     "output_type": "display_data"
    },
    {
     "name": "stdout",
     "output_type": "stream",
     "text": [
      "plane === plane\n"
     ]
    },
    {
     "data": {
      "image/png": "[encoded data removed]",
      "text/plain": [
       "<matplotlib.figure.Figure at 0x7f3a2876c320>"
      ]
     },
     "metadata": {},
     "output_type": "display_data"
    },
    {
     "name": "stdout",
     "output_type": "stream",
     "text": [
      "dog === dog\n"
     ]
    },
    {
     "data": {
      "image/png": "[encoded data removed]",
      "text/plain": [
       "<matplotlib.figure.Figure at 0x7f3a0375e1d0>"
      ]
     },
     "metadata": {},
     "output_type": "display_data"
    },
    {
     "name": "stdout",
     "output_type": "stream",
     "text": [
      "ship === ship\n"
     ]
    },
    {
     "data": {
      "image/png": "[encoded data removed]",
      "text/plain": [
       "<matplotlib.figure.Figure at 0x7f3a544cdf98>"
      ]
     },
     "metadata": {},
     "output_type": "display_data"
    },
    {
     "name": "stdout",
     "output_type": "stream",
     "text": [
      "dog === dog\n"
     ]
    },
    {
     "data": {
      "image/png": "[encoded data removed]",
      "text/plain": [
       "<matplotlib.figure.Figure at 0x7f3a036bcb38>"
      ]
     },
     "metadata": {},
     "output_type": "display_data"
    },
    {
     "name": "stdout",
     "output_type": "stream",
     "text": [
      "horse === horse\n"
     ]
    }
   ],
   "source": [
    "with tf.Session() as sess:\n",
    "    sess.run(tf.global_variables_initializer())\n",
    "    epoch = 30\n",
    "    batch_size_train = 3000\n",
    "    batch_count_train = 50000 // batch_size_train\n",
    "    for i in range(epoch):\n",
    "        print(\"epoch :\", i)\n",
    "        loss_total=0\n",
    "        for i in range(batch_count_train):\n",
    "            batch_index_train = i*batch_size_train\n",
    "            img = train_X[batch_index_train:batch_index_train+batch_size_train]\n",
    "            label = train_Y[batch_index_train:batch_index_train+batch_size_train]\n",
    "            _,loss_val = sess.run([train_op, loss],feed_dict={X:img, Y:label})\n",
    "            loss_total += loss_val\n",
    "        print(\"loss ==> \", loss_total)\n",
    "    \n",
    "    \n",
    "    batch_size_test = 100\n",
    "    batch_count_test = 10000 // batch_size_test\n",
    "    accur = []\n",
    "    predic = []\n",
    "    Y_onehot = []\n",
    "    for i in range(batch_count_test):\n",
    "        batch_index_test = i*batch_size_test\n",
    "        test_img_1 = test_X[batch_index_test:batch_index_test+batch_size_test]\n",
    "        test_label_1 = test_Y[batch_index_test:batch_index_test+batch_size_test]\n",
    "        acc, pre, Y_ = sess.run([Accuracy, softmax, Y_one], feed_dict={X:test_img_1, Y:test_label_1})\n",
    "        accur.append(acc)\n",
    "        predic.append(pre)\n",
    "        Y_onehot.append(Y_)\n",
    "    print(\"Accuracy : \", np.mean(accur)) \n",
    "    num = np.random.uniform(0, 10000, 10).astype(int)\n",
    "    test_img = test_X[:,:,:]\n",
    "    predic = np.reshape(predic, [10000,10])\n",
    "    Y_onehot = np.reshape(Y_onehot, [10000,10])\n",
    "    for i in range(10):\n",
    "        plt.imshow(test_img[num[i]])\n",
    "        plt.show()\n",
    "        print(classes[np.argmax(Y_onehot[num[i]])],\"===\",classes[np.argmax(predic[num[i]])])\n",
    "#     print(test_img.dtype)\n",
    "#     print(test_label.shape)\n",
    "#     num = np.random.uniform(0, 10000, 10).astype(int)\n",
    "#     img = test_img[num[i]]\n",
    "#     print\n",
    "#     plt.imshow(img)\n",
    "#     plt.show()"
   ]
  },
  {
   "cell_type": "code",
   "execution_count": null,
   "metadata": {
    "collapsed": true
   },
   "outputs": [],
   "source": [
    "classes"
   ]
  },
  {
   "cell_type": "code",
   "execution_count": null,
   "metadata": {
    "collapsed": true
   },
   "outputs": [],
   "source": [
    "np.shape(Y_onehot)"
   ]
  },
  {
   "cell_type": "code",
   "execution_count": null,
   "metadata": {
    "collapsed": true
   },
   "outputs": [],
   "source": []
  }
 ],
 "metadata": {
  "kernelspec": {
   "display_name": "Python 3",
   "language": "python",
   "name": "python3"
  },
  "language_info": {
   "codemirror_mode": {
    "name": "ipython",
    "version": 3
   },
   "file_extension": ".py",
   "mimetype": "text/x-python",
   "name": "python",
   "nbconvert_exporter": "python",
   "pygments_lexer": "ipython3",
   "version": "3.5.4"
  }
 },
 "nbformat": 4,
 "nbformat_minor": 2
}
