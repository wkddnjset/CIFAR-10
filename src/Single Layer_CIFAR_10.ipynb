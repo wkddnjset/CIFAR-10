{
 "cells": [
  {
   "cell_type": "markdown",
   "metadata": {},
   "source": [
    "### Softmax Classifier for CIFAT-10\n",
    "\n",
    "#### Load_Dataset : Constomize CIFAR-10 Image Data "
   ]
  },
  {
   "cell_type": "code",
   "execution_count": 60,
   "metadata": {
    "collapsed": true
   },
   "outputs": [],
   "source": [
    "import numpy as np\n",
    "import tensorflow as tf\n",
    "import time\n",
    "import Load_Dataset\n",
    "from PIL import Image"
   ]
  },
  {
   "cell_type": "markdown",
   "metadata": {},
   "source": [
    "#### load Dataset from Load_Dataset.py"
   ]
  },
  {
   "cell_type": "code",
   "execution_count": 61,
   "metadata": {},
   "outputs": [],
   "source": [
    "data_set = Load_Dataset.load_data()\n",
    "data_reshape = Load_Dataset.reshape_data(data_set)\n",
    "\n",
    "train_X = data_reshape['images_train']\n",
    "train_Y = data_reshape['labels_train']\n",
    "test_X = data_reshape['images_test']\n",
    "test_Y = data_reshape['labels_test']"
   ]
  },
  {
   "cell_type": "code",
   "execution_count": 62,
   "metadata": {},
   "outputs": [],
   "source": [
    "X = tf.placeholder(shape=[None,3072], dtype=tf.float32, name='X')\n",
    "Y = tf.placeholder(shape=[None], dtype=tf.uint8, name='Y')\n",
    "W = tf.Variable(tf.zeros([3072, 10]), name='W')\n",
    "B = tf.Variable(tf.zeros([10]), name='B')\n",
    "# One_hot labels\n",
    "Y_one = tf.one_hot(Y, 10, axis=1, name='one_hot')"
   ]
  },
  {
   "cell_type": "code",
   "execution_count": 69,
   "metadata": {},
   "outputs": [],
   "source": [
    "# \n",
    "H = tf.matmul(X, W) + B\n",
    "loss = tf.reduce_mean(tf.nn.softmax_cross_entropy_with_logits(logits=H, labels=Y_one, name='loss'))\n",
    "optimizer = tf.train.AdamOptimizer(learning_rate=0.01, name='optimizer')\n",
    "train_op = optimizer.minimize(loss_avr, name='min')"
   ]
  },
  {
   "cell_type": "code",
   "execution_count": 70,
   "metadata": {},
   "outputs": [],
   "source": [
    "# Accuracy\n",
    "softmax = tf.nn.softmax(H)\n",
    "Accuracy = tf.reduce_mean(tf.cast(tf.equal(tf.argmax(softmax, 1), tf.argmax(Y_one, 1)), dtype=tf.float32))"
   ]
  },
  {
   "cell_type": "code",
   "execution_count": 78,
   "metadata": {},
   "outputs": [
    {
     "name": "stdout",
     "output_type": "stream",
     "text": [
      "epoch : 0\n",
      "=> loss :  99.4521713257\n",
      "epoch : 1\n",
      "=> loss :  73.6486206055\n",
      "epoch : 2\n",
      "=> loss :  108.700035095\n",
      "epoch : 3\n",
      "=> loss :  76.8045043945\n",
      "epoch : 4\n",
      "=> loss :  62.2327270508\n",
      "epoch : 5\n",
      "=> loss :  65.9209594727\n",
      "epoch : 6\n",
      "=> loss :  62.0484619141\n",
      "epoch : 7\n",
      "=> loss :  100.757865906\n",
      "epoch : 8\n",
      "=> loss :  58.63671875\n",
      "epoch : 9\n",
      "=> loss :  73.4476242065\n",
      "epoch : 10\n",
      "=> loss :  100.106506348\n",
      "epoch : 11\n",
      "=> loss :  49.7524375916\n",
      "epoch : 12\n",
      "=> loss :  66.4538345337\n",
      "epoch : 13\n",
      "=> loss :  87.2442398071\n",
      "epoch : 14\n",
      "=> loss :  91.5883636475\n",
      "epoch : 15\n",
      "=> loss :  88.7275390625\n",
      "epoch : 16\n",
      "=> loss :  77.9071578979\n",
      "epoch : 17\n",
      "=> loss :  68.0802001953\n",
      "epoch : 18\n",
      "=> loss :  80.225227356\n",
      "epoch : 19\n",
      "=> loss :  44.9255905151\n",
      "Accuracy :  [0.26479995]\n"
     ]
    }
   ],
   "source": [
    "with tf.Session() as sess:\n",
    "    sess.run(tf.global_variables_initializer())\n",
    "    epoch = 20\n",
    "    for i in range (epoch):\n",
    "        print(\"epoch :\", i)\n",
    "        batch_size = 1000\n",
    "        batch_count = 50000 // batch_size\n",
    "        loss_total = 0\n",
    "        for i in range (batch_count):\n",
    "            batch_index = i * batch_size\n",
    "            img = np.reshape(train_X[batch_index:batch_index+batch_size], [-1, 3072])\n",
    "            label = train_Y[batch_index:batch_index+batch_size]\n",
    "            _, loss_value = sess.run([train_op, loss], feed_dict={X:img, Y:label})\n",
    "        loss_total += loss_value\n",
    "        print(\"=> loss : \", loss_total)\n",
    "    test_img = np.reshape(test_X[:], [-1, 3072])\n",
    "    test_label = test_Y[:]\n",
    "    acc = sess.run([Accuracy], feed_dict={X:test_img, Y:test_label})\n",
    "    print(\"Accuracy : \", acc)"
   ]
  },
  {
   "cell_type": "code",
   "execution_count": null,
   "metadata": {
    "collapsed": true
   },
   "outputs": [],
   "source": []
  }
 ],
 "metadata": {
  "kernelspec": {
   "display_name": "Python 3",
   "language": "python",
   "name": "python3"
  },
  "language_info": {
   "codemirror_mode": {
    "name": "ipython",
    "version": 3
   },
   "file_extension": ".py",
   "mimetype": "text/x-python",
   "name": "python",
   "nbconvert_exporter": "python",
   "pygments_lexer": "ipython3",
   "version": "3.5.4"
  }
 },
 "nbformat": 4,
 "nbformat_minor": 2
}
